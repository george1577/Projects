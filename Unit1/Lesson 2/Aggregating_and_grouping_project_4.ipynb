{
 "cells": [
  {
   "cell_type": "markdown",
   "metadata": {},
   "source": [
    "# Drills"
   ]
  },
  {
   "cell_type": "markdown",
   "metadata": {},
   "source": [
    "### What was the hottest day in our data set? Where was that?\n",
    "SQL:\n",
    "\n",
    "SELECT date, zip, maxtemperaturef AS max_temp FROM weather WHERE maxtemperaturef = (SELECT MAX(maxtemperaturef) FROM weather)"
   ]
  },
  {
   "cell_type": "markdown",
   "metadata": {},
   "source": [
    "### How many trips started at each station?\n",
    "SQL:\n",
    "\n",
    "SELECT start_station, COUNT(*) FROM trips GROUP BY start_station"
   ]
  },
  {
   "cell_type": "markdown",
   "metadata": {},
   "source": [
    "### What's the shortest trip that happened?\n",
    "SQL:\n",
    "\n",
    "SELECT * FROM trips WHERE duration = (SELECT MIN(duration) FROM trips)"
   ]
  },
  {
   "cell_type": "markdown",
   "metadata": {},
   "source": [
    "### What is the average trip duration, by end station?\n",
    "SQL:\n",
    "\n",
    "SELECT end_station, AVG(duration) AS avg_duration FROM trips GROUP BY end_station"
   ]
  },
  {
   "cell_type": "code",
   "execution_count": null,
   "metadata": {},
   "outputs": [],
   "source": []
  }
 ],
 "metadata": {
  "kernelspec": {
   "display_name": "Python 3",
   "language": "python",
   "name": "python3"
  },
  "language_info": {
   "codemirror_mode": {
    "name": "ipython",
    "version": 3
   },
   "file_extension": ".py",
   "mimetype": "text/x-python",
   "name": "python",
   "nbconvert_exporter": "python",
   "pygments_lexer": "ipython3",
   "version": "3.7.0"
  }
 },
 "nbformat": 4,
 "nbformat_minor": 2
}
