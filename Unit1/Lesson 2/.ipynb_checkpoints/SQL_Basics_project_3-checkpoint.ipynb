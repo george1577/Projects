{
 "cells": [
  {
   "cell_type": "markdown",
   "metadata": {},
   "source": [
    "# Drills\n",
    "Let's confirm some of this new knowledge with a few basic exercises. Write SQL queries to return:"
   ]
  },
  {
   "cell_type": "markdown",
   "metadata": {},
   "source": [
    "### The IDs and durations for all trips of duration greater than 500, ordered by duration.\n",
    "SQL:\n",
    "\n",
    "SELECT \n",
    "    trip_id, duration \n",
    "FROM \n",
    "    trips \n",
    "WHERE \n",
    "    duration > 500\n",
    "ORDER BY \n",
    "    duration \n",
    "DESC"
   ]
  },
  {
   "cell_type": "markdown",
   "metadata": {},
   "source": [
    "### Every column of the stations table for station id 84.\n",
    "SQL:\n",
    "\n",
    "SELECT\n",
    "\t*\n",
    "FROM \n",
    "\tstations\n",
    "WHERE \n",
    "\tstation_id = 84"
   ]
  },
  {
   "cell_type": "markdown",
   "metadata": {},
   "source": [
    "### The min temperatures of all the occurrences of rain in zip 94301.\n",
    "SQL:\n",
    "\n",
    "SELECT mintemperaturef AS min_temp FROM weather WHERE zip = 94301 AND events = 'Rain'"
   ]
  },
  {
   "cell_type": "code",
   "execution_count": null,
   "metadata": {},
   "outputs": [],
   "source": []
  }
 ],
 "metadata": {
  "kernelspec": {
   "display_name": "Python 3",
   "language": "python",
   "name": "python3"
  },
  "language_info": {
   "codemirror_mode": {
    "name": "ipython",
    "version": 3
   },
   "file_extension": ".py",
   "mimetype": "text/x-python",
   "name": "python",
   "nbconvert_exporter": "python",
   "pygments_lexer": "ipython3",
   "version": "3.7.0"
  }
 },
 "nbformat": 4,
 "nbformat_minor": 2
}
